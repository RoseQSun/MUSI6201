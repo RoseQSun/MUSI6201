{
 "cells": [
  {
   "cell_type": "code",
   "execution_count": 82,
   "metadata": {},
   "outputs": [],
   "source": [
    "import sklearn\n",
    "from sklearn.model_selection import train_test_split\n",
    "from sklearn.linear_model import LogisticRegression\n",
    "from sklearn.metrics import classification_report, precision_recall_fscore_support\n",
    "import pandas as pd\n",
    "import numpy as np\n",
    "from sklearn import svm"
   ]
  },
  {
   "cell_type": "code",
   "execution_count": 76,
   "metadata": {},
   "outputs": [],
   "source": [
    "dfslow = pd.read_csv('sanyan_tempo.csv')\n",
    "dfyuanban = pd.read_csv('yuanban_tempo.csv')\n",
    "dferliu = pd.read_csv('erliu_tempo.csv')\n",
    "dfmid = pd.concat([dfyuanban,dferliu])\n",
    "dfliushui = pd.read_csv('liushui_tempo.csv')\n",
    "dfkuaiban = pd.read_csv('kuaiban_tempo.csv')\n",
    "dffast = pd.concat([dfliushui,dfkuaiban])\n",
    "frames = [dfslow, dfmid, dffast]\n",
    "df = pd.concat(frames)"
   ]
  },
  {
   "cell_type": "code",
   "execution_count": 77,
   "metadata": {},
   "outputs": [],
   "source": [
    "categories = df[['Speed']]\n",
    "predictors = df[['Tempo']]\n",
    "predictors =(predictors-predictors.mean())/predictors.std()\n",
    "pred_train, pred_test, cat_train, cat_test = train_test_split(predictors, categories, test_size=.33, random_state=5)\n",
    "multimodel = LogisticRegression(multi_class = 'multinomial', solver = 'lbfgs', max_iter = 5000)\n",
    "multimodel.fit(pred_train, cat_train.Speed) \n",
    "model_pred = multimodel.predict(pred_test)"
   ]
  },
  {
   "cell_type": "code",
   "execution_count": 78,
   "metadata": {},
   "outputs": [
    {
     "data": {
      "text/plain": [
       "array([[ 0.14613128],\n",
       "       [-0.03804353],\n",
       "       [-0.10808775]])"
      ]
     },
     "execution_count": 78,
     "metadata": {},
     "output_type": "execute_result"
    }
   ],
   "source": [
    "multimodel.coef_"
   ]
  },
  {
   "cell_type": "code",
   "execution_count": 79,
   "metadata": {},
   "outputs": [
    {
     "data": {
      "text/plain": [
       "array([[  0,  60,   0],\n",
       "       [  0, 139,   0],\n",
       "       [  0,  83,   0]])"
      ]
     },
     "execution_count": 79,
     "metadata": {},
     "output_type": "execute_result"
    }
   ],
   "source": [
    "from sklearn.metrics import confusion_matrix\n",
    "cm = confusion_matrix(cat_test, model_pred)#parameters are y_truth (i.e.,Ground truth (correct) target values), y_pred (i.e., predicted values from model).\n",
    "cm"
   ]
  },
  {
   "cell_type": "code",
   "execution_count": 80,
   "metadata": {},
   "outputs": [
    {
     "data": {
      "text/html": [
       "<div>\n",
       "<style scoped>\n",
       "    .dataframe tbody tr th:only-of-type {\n",
       "        vertical-align: middle;\n",
       "    }\n",
       "\n",
       "    .dataframe tbody tr th {\n",
       "        vertical-align: top;\n",
       "    }\n",
       "\n",
       "    .dataframe thead th {\n",
       "        text-align: right;\n",
       "    }\n",
       "</style>\n",
       "<table border=\"1\" class=\"dataframe\">\n",
       "  <thead>\n",
       "    <tr style=\"text-align: right;\">\n",
       "      <th></th>\n",
       "      <th>Slow</th>\n",
       "      <th>Mid</th>\n",
       "      <th>Fast</th>\n",
       "    </tr>\n",
       "  </thead>\n",
       "  <tbody>\n",
       "    <tr>\n",
       "      <th>Predicts_Slow</th>\n",
       "      <td>0</td>\n",
       "      <td>60</td>\n",
       "      <td>0</td>\n",
       "    </tr>\n",
       "    <tr>\n",
       "      <th>Predicts_Mid</th>\n",
       "      <td>0</td>\n",
       "      <td>139</td>\n",
       "      <td>0</td>\n",
       "    </tr>\n",
       "    <tr>\n",
       "      <th>Predicts_Fast</th>\n",
       "      <td>0</td>\n",
       "      <td>83</td>\n",
       "      <td>0</td>\n",
       "    </tr>\n",
       "  </tbody>\n",
       "</table>\n",
       "</div>"
      ],
      "text/plain": [
       "               Slow  Mid  Fast\n",
       "Predicts_Slow     0   60     0\n",
       "Predicts_Mid      0  139     0\n",
       "Predicts_Fast     0   83     0"
      ]
     },
     "execution_count": 80,
     "metadata": {},
     "output_type": "execute_result"
    }
   ],
   "source": [
    "pd.DataFrame(cm, columns=['Slow','Mid','Fast'], index=['Predicts_Slow','Predicts_Mid','Predicts_Fast'])"
   ]
  },
  {
   "cell_type": "code",
   "execution_count": 81,
   "metadata": {},
   "outputs": [
    {
     "name": "stdout",
     "output_type": "stream",
     "text": [
      "              precision    recall  f1-score   support\n",
      "\n",
      "        fast       0.00      0.00      0.00        60\n",
      "         mid       0.49      1.00      0.66       139\n",
      "        slow       0.00      0.00      0.00        83\n",
      "\n",
      "    accuracy                           0.49       282\n",
      "   macro avg       0.16      0.33      0.22       282\n",
      "weighted avg       0.24      0.49      0.33       282\n",
      "\n"
     ]
    },
    {
     "name": "stderr",
     "output_type": "stream",
     "text": [
      "/Library/Frameworks/Python.framework/Versions/3.9/lib/python3.9/site-packages/sklearn/metrics/_classification.py:1308: UndefinedMetricWarning: Precision and F-score are ill-defined and being set to 0.0 in labels with no predicted samples. Use `zero_division` parameter to control this behavior.\n",
      "  _warn_prf(average, modifier, msg_start, len(result))\n",
      "/Library/Frameworks/Python.framework/Versions/3.9/lib/python3.9/site-packages/sklearn/metrics/_classification.py:1308: UndefinedMetricWarning: Precision and F-score are ill-defined and being set to 0.0 in labels with no predicted samples. Use `zero_division` parameter to control this behavior.\n",
      "  _warn_prf(average, modifier, msg_start, len(result))\n",
      "/Library/Frameworks/Python.framework/Versions/3.9/lib/python3.9/site-packages/sklearn/metrics/_classification.py:1308: UndefinedMetricWarning: Precision and F-score are ill-defined and being set to 0.0 in labels with no predicted samples. Use `zero_division` parameter to control this behavior.\n",
      "  _warn_prf(average, modifier, msg_start, len(result))\n"
     ]
    }
   ],
   "source": [
    "print(classification_report(cat_test, model_pred))"
   ]
  },
  {
   "cell_type": "code",
   "execution_count": 57,
   "metadata": {},
   "outputs": [
    {
     "data": {
      "text/plain": [
       "array([[-0.2348337]])"
      ]
     },
     "execution_count": 57,
     "metadata": {},
     "output_type": "execute_result"
    }
   ],
   "source": [
    "dfslow = pd.read_csv('manban_tempo.csv')\n",
    "dfliushui = pd.read_csv('liushui_tempo.csv')\n",
    "dfkuaiban = pd.read_csv('kuaiban_tempo.csv')\n",
    "dffast = pd.concat([dfliushui,dfkuaiban])\n",
    "# dfyuanban = pd.read_csv('yuanban_tempo.csv')\n",
    "# dferliu = pd.read_csv('erliu_tempo.csv')\n",
    "# dfmid = pd.concat([dfyuanban,dferliu])\n",
    "frames = [dfslow, dffast]\n",
    "df = pd.concat(frames)\n",
    "categories = df[['Speed']]\n",
    "predictors = df[['Tempo']]\n",
    "predictors =(predictors-predictors.mean())/predictors.std()\n",
    "pred_train, pred_test, cat_train, cat_test = train_test_split(predictors, categories, test_size=.33, random_state=5)\n",
    "multimodel = LogisticRegression(multi_class = 'multinomial', solver = 'lbfgs', max_iter = 5000)\n",
    "multimodel.fit(pred_train, cat_train.Speed) \n",
    "model_pred = multimodel.predict(pred_test)\n",
    "multimodel.coef_"
   ]
  },
  {
   "cell_type": "code",
   "execution_count": 60,
   "metadata": {},
   "outputs": [
    {
     "data": {
      "text/html": [
       "<div>\n",
       "<style scoped>\n",
       "    .dataframe tbody tr th:only-of-type {\n",
       "        vertical-align: middle;\n",
       "    }\n",
       "\n",
       "    .dataframe tbody tr th {\n",
       "        vertical-align: top;\n",
       "    }\n",
       "\n",
       "    .dataframe thead th {\n",
       "        text-align: right;\n",
       "    }\n",
       "</style>\n",
       "<table border=\"1\" class=\"dataframe\">\n",
       "  <thead>\n",
       "    <tr style=\"text-align: right;\">\n",
       "      <th></th>\n",
       "      <th>Fast</th>\n",
       "      <th>Slow</th>\n",
       "    </tr>\n",
       "  </thead>\n",
       "  <tbody>\n",
       "    <tr>\n",
       "      <th>Predicts_Fast</th>\n",
       "      <td>23</td>\n",
       "      <td>37</td>\n",
       "    </tr>\n",
       "    <tr>\n",
       "      <th>Predicts_Slow</th>\n",
       "      <td>14</td>\n",
       "      <td>68</td>\n",
       "    </tr>\n",
       "  </tbody>\n",
       "</table>\n",
       "</div>"
      ],
      "text/plain": [
       "               Fast  Slow\n",
       "Predicts_Fast    23    37\n",
       "Predicts_Slow    14    68"
      ]
     },
     "execution_count": 60,
     "metadata": {},
     "output_type": "execute_result"
    }
   ],
   "source": [
    "from sklearn.metrics import confusion_matrix\n",
    "cm = confusion_matrix(cat_test, model_pred)#parameters are y_truth (i.e.,Ground truth (correct) target values), y_pred (i.e., predicted values from model).\n",
    "pd.DataFrame(cm, columns=['Fast', 'Slow'], index=['Predicts_Fast','Predicts_Slow',])\n"
   ]
  },
  {
   "cell_type": "code",
   "execution_count": 59,
   "metadata": {},
   "outputs": [
    {
     "name": "stdout",
     "output_type": "stream",
     "text": [
      "              precision    recall  f1-score   support\n",
      "\n",
      "        fast       0.62      0.38      0.47        60\n",
      "        slow       0.65      0.83      0.73        82\n",
      "\n",
      "    accuracy                           0.64       142\n",
      "   macro avg       0.63      0.61      0.60       142\n",
      "weighted avg       0.64      0.64      0.62       142\n",
      "\n"
     ]
    }
   ],
   "source": [
    "print(classification_report(cat_test, model_pred))"
   ]
  },
  {
   "cell_type": "code",
   "execution_count": null,
   "metadata": {},
   "outputs": [],
   "source": [
    "import math\n",
    "multi_coefficients = pd.DataFrame(multimodel.coef_)\n",
    "multi_coefficients.columns = predictors.columns\n",
    "multi_coefficients.index = ['classical', 'pop', 'hiphop', 'jazz', 'reggae']\n",
    "multi_coefficients"
   ]
  },
  {
   "cell_type": "code",
   "execution_count": null,
   "metadata": {},
   "outputs": [],
   "source": [
    "from sklearn.metrics import confusion_matrix\n",
    "matrix = confusion_matrix(cat_test, model_pred)\n",
    "matrix"
   ]
  },
  {
   "cell_type": "code",
   "execution_count": null,
   "metadata": {},
   "outputs": [],
   "source": [
    "pd.DataFrame(matrix, columns=['classical', 'pop', 'hiphop', 'jazz', 'reggae'], index=['Predicts_classical','Predicts_pop','Predicts_hippop','Predicts_jazz','Predicts_reggae',])\n"
   ]
  },
  {
   "cell_type": "code",
   "execution_count": null,
   "metadata": {},
   "outputs": [],
   "source": [
    "from sklearn.metrics import classification_report, precision_recall_fscore_support\n",
    "print(classification_report(cat_test, model_pred))"
   ]
  }
 ],
 "metadata": {
  "interpreter": {
   "hash": "aee8b7b246df8f9039afb4144a1f6fd8d2ca17a180786b69acc140d282b71a49"
  },
  "kernelspec": {
   "display_name": "Python 3.9.7 64-bit",
   "language": "python",
   "name": "python3"
  },
  "language_info": {
   "codemirror_mode": {
    "name": "ipython",
    "version": 3
   },
   "file_extension": ".py",
   "mimetype": "text/x-python",
   "name": "python",
   "nbconvert_exporter": "python",
   "pygments_lexer": "ipython3",
   "version": "3.9.7"
  },
  "orig_nbformat": 4
 },
 "nbformat": 4,
 "nbformat_minor": 2
}
